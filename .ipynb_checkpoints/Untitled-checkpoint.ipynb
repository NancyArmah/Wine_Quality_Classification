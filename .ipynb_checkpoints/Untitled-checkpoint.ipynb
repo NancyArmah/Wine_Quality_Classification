{
 "cells": [
  {
   "cell_type": "code",
   "execution_count": 166,
   "id": "f1c4ee88",
   "metadata": {},
   "outputs": [],
   "source": [
    "import pandas as pd\n",
    "import numpy as np\n",
    "from pandas import read_csv\n",
    "import matplotlib.pyplot as plt\n",
    "import seaborn as sns\n",
    "import scipy\n",
    "from imblearn.over_sampling import SMOTE\n",
    "from sklearn.model_selection import train_test_split\n",
    "from sklearn.model_selection import cross_val_score\n",
    "from sklearn.model_selection import KFold\n",
    "from sklearn.model_selection import cross_val_score\n",
    "from sklearn.model_selection import KFold\n",
    "from sklearn.neighbors import KNeighborsClassifier\n",
    "from sklearn.tree import DecisionTreeClassifier\n",
    "from sklearn.ensemble import RandomForestClassifier\n",
    "from sklearn.linear_model import LogisticRegression\n",
    "from sklearn.svm import SVC\n",
    "from sklearn.naive_bayes import GaussianNB\n",
    "from sklearn.model_selection import GridSearchCV\n",
    "from sklearn.metrics import make_scorer, roc_auc_score, confusion_matrix, accuracy_score, f1_score, classification_report\n",
    "import warnings\n",
    "warnings.filterwarnings('ignore')"
   ]
  },
  {
   "cell_type": "code",
   "execution_count": 167,
   "id": "00c63516",
   "metadata": {},
   "outputs": [],
   "source": [
    "data=pd.read_csv('WineQT.csv')"
   ]
  },
  {
   "cell_type": "code",
   "execution_count": 168,
   "id": "48e4d722",
   "metadata": {},
   "outputs": [],
   "source": [
    "data=data.drop('Id', axis=1)"
   ]
  },
  {
   "cell_type": "code",
   "execution_count": 169,
   "id": "5dec358a",
   "metadata": {},
   "outputs": [
    {
     "data": {
      "text/plain": [
       "density                 0.102395\n",
       "pH                      0.221138\n",
       "quality                 0.286792\n",
       "citric acid             0.371561\n",
       "volatile acidity        0.681547\n",
       "alcohol                 0.863313\n",
       "fixed acidity           1.044930\n",
       "free sulfur dioxide     1.231261\n",
       "total sulfur dioxide    1.665766\n",
       "sulphates               2.497266\n",
       "residual sugar          4.361096\n",
       "chlorides               6.026360\n",
       "dtype: float64"
      ]
     },
     "execution_count": 169,
     "metadata": {},
     "output_type": "execute_result"
    }
   ],
   "source": [
    "data.skew().sort_values()"
   ]
  },
  {
   "cell_type": "code",
   "execution_count": 170,
   "id": "0373b9d7",
   "metadata": {},
   "outputs": [],
   "source": [
    "data['fixed acidity']=data['fixed acidity'].apply(np.log)\n",
    "data['total sulfur dioxide']=data['total sulfur dioxide'].apply(np.log)\n",
    "data['sulphates']=data['sulphates'].apply(np.log)\n",
    "data['free sulfur dioxide']=data['free sulfur dioxide'].apply(np.log)\n",
    "data['chlorides']=data['chlorides'].apply(np.log)\n",
    "data['residual sugar']=data['residual sugar'].apply(np.log)"
   ]
  },
  {
   "cell_type": "code",
   "execution_count": 171,
   "id": "d88efa1b",
   "metadata": {},
   "outputs": [
    {
     "data": {
      "text/plain": [
       "array([5, 6, 7, 4, 8, 3], dtype=int64)"
      ]
     },
     "execution_count": 171,
     "metadata": {},
     "output_type": "execute_result"
    }
   ],
   "source": [
    "data.quality.unique()"
   ]
  },
  {
   "cell_type": "code",
   "execution_count": 172,
   "id": "9f1b8d82",
   "metadata": {},
   "outputs": [],
   "source": [
    "X=data.drop('quality', axis=1)\n",
    "y=data['quality']"
   ]
  },
  {
   "cell_type": "code",
   "execution_count": 173,
   "id": "bb482236",
   "metadata": {},
   "outputs": [],
   "source": [
    "sm = SMOTE(sampling_strategy='auto', random_state=42)\n",
    "X,y=sm.fit_resample(X,y)"
   ]
  },
  {
   "cell_type": "code",
   "execution_count": 182,
   "id": "5f9fe379",
   "metadata": {},
   "outputs": [],
   "source": [
    "X_train, X_test, y_train, y_test= train_test_split(X, y, test_size=0.20, random_state=42)"
   ]
  },
  {
   "cell_type": "code",
   "execution_count": null,
   "id": "52a8af8b",
   "metadata": {},
   "outputs": [],
   "source": []
  },
  {
   "cell_type": "code",
   "execution_count": null,
   "id": "b8f54a84",
   "metadata": {},
   "outputs": [],
   "source": []
  },
  {
   "cell_type": "code",
   "execution_count": 183,
   "id": "eab0128f",
   "metadata": {},
   "outputs": [],
   "source": [
    "models = []\n",
    "models.append(('LR', LogisticRegression()))\n",
    "models.append(('KNN', KNeighborsClassifier()))\n",
    "models.append(('CART', DecisionTreeClassifier()))\n",
    "models.append(('NB', GaussianNB()))\n",
    "models.append(('RF', RandomForestClassifier()))"
   ]
  },
  {
   "cell_type": "code",
   "execution_count": 184,
   "id": "74bab5e3",
   "metadata": {},
   "outputs": [
    {
     "name": "stdout",
     "output_type": "stream",
     "text": [
      "LR: 0.577653 (0.014329)\n",
      "KNN: 0.782143 (0.029010)\n",
      "CART: 0.767467 (0.032226)\n",
      "NB: 0.519408 (0.026993)\n",
      "RF: 0.848151 (0.020087)\n"
     ]
    }
   ],
   "source": [
    "results_c = []\n",
    "names_c = []\n",
    "\n",
    "for name, model in models:\n",
    "    # define how to split off validation data ('kfold' how many folds)\n",
    "    cv = KFold(n_splits=10, shuffle=True, random_state=42)  \n",
    "    # train the model\n",
    "    cv_results = cross_val_score(model, X_train, y_train, scoring='accuracy', cv=cv, n_jobs=-1, error_score='raise')    \n",
    "    results_c.append(cv_results)\n",
    "    names_c.append(name)\n",
    "    msg = \"%s: %f (%f)\" % (name, cv_results.mean(), cv_results.std())\n",
    "    print(msg)"
   ]
  },
  {
   "cell_type": "code",
   "execution_count": 185,
   "id": "e8b2de8c",
   "metadata": {},
   "outputs": [
    {
     "data": {
      "text/plain": [
       "RandomForestClassifier(max_depth=15, n_estimators=200, random_state=42)"
      ]
     },
     "execution_count": 185,
     "metadata": {},
     "output_type": "execute_result"
    }
   ],
   "source": [
    "RF = RandomForestClassifier(n_estimators=200,max_depth=15,random_state=42)\n",
    "RF.fit(X_train, y_train)"
   ]
  },
  {
   "cell_type": "code",
   "execution_count": 186,
   "id": "333591a7",
   "metadata": {},
   "outputs": [],
   "source": [
    "y_pred = RF.predict(X_test)"
   ]
  },
  {
   "cell_type": "code",
   "execution_count": 187,
   "id": "daa9cd9a",
   "metadata": {},
   "outputs": [
    {
     "data": {
      "text/plain": [
       "0.8793103448275862"
      ]
     },
     "execution_count": 187,
     "metadata": {},
     "output_type": "execute_result"
    }
   ],
   "source": [
    "accuracy_score(y_test, y_pred)"
   ]
  },
  {
   "cell_type": "code",
   "execution_count": 188,
   "id": "60e3399d",
   "metadata": {},
   "outputs": [
    {
     "data": {
      "text/plain": [
       "array([[97,  0,  0,  0,  0,  0],\n",
       "       [ 0, 90,  2,  0,  0,  0],\n",
       "       [ 0,  2, 77, 25,  4,  0],\n",
       "       [ 0,  4, 15, 63, 13,  0],\n",
       "       [ 0,  0,  1,  4, 91,  0],\n",
       "       [ 0,  0,  0,  0,  0, 92]], dtype=int64)"
      ]
     },
     "execution_count": 188,
     "metadata": {},
     "output_type": "execute_result"
    }
   ],
   "source": [
    "confusion_matrix(y_test,y_pred)"
   ]
  },
  {
   "cell_type": "code",
   "execution_count": 189,
   "id": "30079d25",
   "metadata": {},
   "outputs": [
    {
     "name": "stdout",
     "output_type": "stream",
     "text": [
      "              precision    recall  f1-score   support\n",
      "\n",
      "           3       1.00      1.00      1.00        97\n",
      "           4       0.94      0.98      0.96        92\n",
      "           5       0.81      0.71      0.76       108\n",
      "           6       0.68      0.66      0.67        95\n",
      "           7       0.84      0.95      0.89        96\n",
      "           8       1.00      1.00      1.00        92\n",
      "\n",
      "    accuracy                           0.88       580\n",
      "   macro avg       0.88      0.88      0.88       580\n",
      "weighted avg       0.88      0.88      0.88       580\n",
      "\n"
     ]
    }
   ],
   "source": [
    "print(classification_report(y_test, y_pred))"
   ]
  },
  {
   "cell_type": "code",
   "execution_count": null,
   "id": "f823cc93",
   "metadata": {},
   "outputs": [],
   "source": []
  },
  {
   "cell_type": "code",
   "execution_count": null,
   "id": "d9b994de",
   "metadata": {},
   "outputs": [],
   "source": []
  },
  {
   "cell_type": "code",
   "execution_count": null,
   "id": "ef46eee4",
   "metadata": {},
   "outputs": [],
   "source": []
  },
  {
   "cell_type": "code",
   "execution_count": null,
   "id": "ad705f7c",
   "metadata": {},
   "outputs": [],
   "source": []
  }
 ],
 "metadata": {
  "kernelspec": {
   "display_name": "Python 3 (ipykernel)",
   "language": "python",
   "name": "python3"
  },
  "language_info": {
   "codemirror_mode": {
    "name": "ipython",
    "version": 3
   },
   "file_extension": ".py",
   "mimetype": "text/x-python",
   "name": "python",
   "nbconvert_exporter": "python",
   "pygments_lexer": "ipython3",
   "version": "3.9.13"
  }
 },
 "nbformat": 4,
 "nbformat_minor": 5
}
